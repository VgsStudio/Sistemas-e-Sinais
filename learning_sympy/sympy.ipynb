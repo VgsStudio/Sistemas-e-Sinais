{
 "cells": [
  {
   "cell_type": "markdown",
   "source": [
    "# Learning Sympy"
   ],
   "metadata": {
    "collapsed": false
   }
  },
  {
   "cell_type": "markdown",
   "source": [
    "## Importing sympy"
   ],
   "metadata": {
    "collapsed": false
   }
  },
  {
   "cell_type": "code",
   "execution_count": 104,
   "outputs": [],
   "source": [
    "import sympy as smp\n",
    "import numpy as np"
   ],
   "metadata": {
    "collapsed": false
   }
  },
  {
   "cell_type": "markdown",
   "source": [
    "## Creating a symbol"
   ],
   "metadata": {
    "collapsed": false
   }
  },
  {
   "cell_type": "code",
   "execution_count": 105,
   "outputs": [],
   "source": [
    "x, y = smp.symbols('x y')"
   ],
   "metadata": {
    "collapsed": false
   }
  },
  {
   "cell_type": "markdown",
   "source": [
    "## Creating a function\n",
    "\n"
   ],
   "metadata": {
    "collapsed": false
   }
  },
  {
   "cell_type": "markdown",
   "source": [
    "## Creating a function"
   ],
   "metadata": {
    "collapsed": false
   }
  },
  {
   "cell_type": "code",
   "execution_count": 106,
   "outputs": [
    {
     "data": {
      "text/plain": "x**2 + y**2",
      "text/latex": "$\\displaystyle x^{2} + y^{2}$"
     },
     "metadata": {},
     "output_type": "display_data"
    }
   ],
   "source": [
    "z = x**2 + y**2\n",
    "display(z)\n"
   ],
   "metadata": {
    "collapsed": false
   }
  },
  {
   "cell_type": "markdown",
   "source": [
    "### Solving an equation\n",
    "Creating assumptions for the symbol is a **good idea.**\n"
   ],
   "metadata": {
    "collapsed": false
   }
  },
  {
   "cell_type": "code",
   "execution_count": 107,
   "outputs": [
    {
     "data": {
      "text/plain": "[1]"
     },
     "execution_count": 107,
     "metadata": {},
     "output_type": "execute_result"
    }
   ],
   "source": [
    "x = smp.Symbol('x', real=True, positive=True)\n",
    "\n",
    "f = x**2 -1\n",
    "\n",
    "smp.solve(f, x)"
   ],
   "metadata": {
    "collapsed": false
   }
  },
  {
   "cell_type": "markdown",
   "source": [
    "## Two variables equation\n"
   ],
   "metadata": {
    "collapsed": false
   }
  },
  {
   "cell_type": "code",
   "execution_count": 108,
   "outputs": [
    {
     "data": {
      "text/plain": "[-sqrt(1 - y**2), sqrt(1 - y**2)]"
     },
     "metadata": {},
     "output_type": "display_data"
    }
   ],
   "source": [
    "x, y = smp.symbols('x y')\n",
    "\n",
    "f = x**2 + y**2 - 1\n",
    "\n",
    "x_sol = smp.solve(f, x)\n",
    "\n",
    "# solve for X\n",
    "display(x_sol)\n"
   ],
   "metadata": {
    "collapsed": false
   }
  },
  {
   "cell_type": "code",
   "execution_count": 109,
   "outputs": [
    {
     "data": {
      "text/plain": "[-sqrt(1 - x**2), sqrt(1 - x**2)]"
     },
     "metadata": {},
     "output_type": "display_data"
    }
   ],
   "source": [
    "y_sol = smp.solve(f, y)\n",
    "\n",
    "# solve for Y\n",
    "\n",
    "display(y_sol)\n"
   ],
   "metadata": {
    "collapsed": false
   }
  },
  {
   "cell_type": "code",
   "execution_count": 110,
   "outputs": [
    {
     "data": {
      "text/plain": "[(-sqrt(1 - y**2), y), (sqrt(1 - y**2), y)]"
     },
     "execution_count": 110,
     "metadata": {},
     "output_type": "execute_result"
    }
   ],
   "source": [
    "# solve for X and Y\n",
    "smp.solve(f, x, y)\n"
   ],
   "metadata": {
    "collapsed": false
   }
  },
  {
   "cell_type": "markdown",
   "source": [
    "## Transforming an equation into a function"
   ],
   "metadata": {
    "collapsed": false
   }
  },
  {
   "cell_type": "code",
   "execution_count": 111,
   "outputs": [],
   "source": [
    "x, y = smp.symbols('x y')\n",
    "\n",
    "f = x**2 + y**2 - 1\n",
    "\n",
    "f_func = smp.lambdify((x, y), f)\n"
   ],
   "metadata": {
    "collapsed": false
   }
  },
  {
   "cell_type": "code",
   "execution_count": 112,
   "outputs": [
    {
     "data": {
      "text/plain": "1"
     },
     "execution_count": 112,
     "metadata": {},
     "output_type": "execute_result"
    }
   ],
   "source": [
    "f_func(1, 1)\n"
   ],
   "metadata": {
    "collapsed": false
   }
  },
  {
   "cell_type": "markdown",
   "source": [
    "## Creating a symbolic function"
   ],
   "metadata": {
    "collapsed": false
   }
  },
  {
   "cell_type": "code",
   "execution_count": 113,
   "outputs": [
    {
     "data": {
      "text/plain": "f(x)",
      "text/latex": "$\\displaystyle f{\\left(x \\right)}$"
     },
     "metadata": {},
     "output_type": "display_data"
    },
    {
     "data": {
      "text/plain": "Derivative(f(x), x)",
      "text/latex": "$\\displaystyle \\frac{d}{d x} f{\\left(x \\right)}$"
     },
     "metadata": {},
     "output_type": "display_data"
    },
    {
     "data": {
      "text/plain": "2*x",
      "text/latex": "$\\displaystyle 2 x$"
     },
     "execution_count": 113,
     "metadata": {},
     "output_type": "execute_result"
    }
   ],
   "source": [
    "x = smp.Symbol('x')\n",
    "\n",
    "f = smp.Function('f')(x)\n",
    "\n",
    "display(f)\n",
    "\n",
    "dxdy = smp.diff(f, x)\n",
    "\n",
    "display(dxdy)\n",
    "\n",
    "dxdy.subs({f: x**2}).doit()"
   ],
   "metadata": {
    "collapsed": false
   }
  },
  {
   "cell_type": "markdown",
   "source": [
    "## Plotting a function\n",
    "\n",
    "### Import libraries\n"
   ],
   "metadata": {
    "collapsed": false
   }
  },
  {
   "cell_type": "code",
   "execution_count": 114,
   "outputs": [],
   "source": [
    "import matplotlib.pyplot as plt"
   ],
   "metadata": {
    "collapsed": false
   }
  },
  {
   "cell_type": "code",
   "execution_count": 115,
   "outputs": [
    {
     "data": {
      "text/plain": "[<matplotlib.lines.Line2D at 0x22d2056b280>]"
     },
     "execution_count": 115,
     "metadata": {},
     "output_type": "execute_result"
    },
    {
     "data": {
      "text/plain": "<Figure size 432x288 with 1 Axes>",
      "image/png": "[encoded data removed]"
     },
     "metadata": {
      "needs_background": "light"
     },
     "output_type": "display_data"
    }
   ],
   "source": [
    "x = np.linspace(-2, 2, 100)\n",
    "\n",
    "y = 2\n",
    "\n",
    "plt.plot(x, f_func(x, y))\n"
   ],
   "metadata": {
    "collapsed": false
   }
  },
  {
   "cell_type": "markdown",
   "source": [
    "## Substituting values\n"
   ],
   "metadata": {
    "collapsed": false
   }
  },
  {
   "cell_type": "code",
   "execution_count": 116,
   "outputs": [
    {
     "data": {
      "text/plain": "'Substituting x = y'"
     },
     "metadata": {},
     "output_type": "display_data"
    },
    {
     "data": {
      "text/plain": "2*y**2 - 1",
      "text/latex": "$\\displaystyle 2 y^{2} - 1$"
     },
     "metadata": {},
     "output_type": "display_data"
    },
    {
     "data": {
      "text/plain": "'Substituting x = 1 and y = 2'"
     },
     "metadata": {},
     "output_type": "display_data"
    },
    {
     "data": {
      "text/plain": "4",
      "text/latex": "$\\displaystyle 4$"
     },
     "metadata": {},
     "output_type": "display_data"
    },
    {
     "data": {
      "text/plain": "'Substituting x = 1 and y = 1/2'"
     },
     "metadata": {},
     "output_type": "display_data"
    },
    {
     "data": {
      "text/plain": "'Using Rational'"
     },
     "metadata": {},
     "output_type": "display_data"
    },
    {
     "data": {
      "text/plain": "1/4",
      "text/latex": "$\\displaystyle \\frac{1}{4}$"
     },
     "metadata": {},
     "output_type": "display_data"
    },
    {
     "data": {
      "text/plain": "'Using Float'"
     },
     "metadata": {},
     "output_type": "display_data"
    },
    {
     "data": {
      "text/plain": "0.250000000000000",
      "text/latex": "$\\displaystyle 0.25$"
     },
     "metadata": {},
     "output_type": "display_data"
    }
   ],
   "source": [
    "x, y = smp.symbols('x y')\n",
    "\n",
    "f = x**2 + y**2 - 1\n",
    "\n",
    "display('Substituting x = y')\n",
    "display(f.subs({x: y}))\n",
    "\n",
    "display('Substituting x = 1 and y = 2')\n",
    "display(f.subs({x: 1, y: 2}))\n",
    "\n",
    "\n",
    "\n",
    "display('Substituting x = 1 and y = 1/2')\n",
    "display(\"Using Rational\")\n",
    "display(f.subs({x: 1, y: smp.Rational(1,2)}))\n",
    "\n",
    "display(\"Using Float\")\n",
    "display(f.subs({x: 1, y: 1/2}))\n"
   ],
   "metadata": {
    "collapsed": false
   }
  },
  {
   "cell_type": "markdown",
   "source": [
    "### Using Rational is a **good idea**."
   ],
   "metadata": {
    "collapsed": false
   }
  },
  {
   "cell_type": "code",
   "execution_count": 117,
   "outputs": [
    {
     "data": {
      "text/plain": "1/2",
      "text/latex": "$\\displaystyle \\frac{1}{2}$"
     },
     "metadata": {},
     "output_type": "display_data"
    },
    {
     "data": {
      "text/plain": "0.5"
     },
     "execution_count": 117,
     "metadata": {},
     "output_type": "execute_result"
    }
   ],
   "source": [
    "a = smp.Rational(1,2)\n",
    "display(a)\n",
    "\n",
    "float(a)"
   ],
   "metadata": {
    "collapsed": false
   }
  },
  {
   "cell_type": "markdown",
   "source": [
    "## Calculus I\n",
    "\n",
    "### Limits\n",
    "\n",
    "$$\\lim_{x\\to\\infty} \\left( 1 + \\dfrac{1}{x} \\right)^x$$"
   ],
   "metadata": {
    "collapsed": false
   }
  },
  {
   "cell_type": "code",
   "execution_count": 118,
   "outputs": [
    {
     "data": {
      "text/plain": "(1 + 1/x)**x",
      "text/latex": "$\\displaystyle \\left(1 + \\frac{1}{x}\\right)^{x}$"
     },
     "metadata": {},
     "output_type": "display_data"
    },
    {
     "data": {
      "text/plain": "E",
      "text/latex": "$\\displaystyle e$"
     },
     "execution_count": 118,
     "metadata": {},
     "output_type": "execute_result"
    }
   ],
   "source": [
    "expression = (1+1/x)**x\n",
    "display(expression)\n",
    "\n",
    "smp.limit(expression, x, smp.oo)"
   ],
   "metadata": {
    "collapsed": false
   }
  },
  {
   "cell_type": "markdown",
   "source": [
    "### Derivatives\n",
    "\n",
    "$$\\dfrac{d}{dx} \\left( x^2 + 2x + 1 \\right)$$\n"
   ],
   "metadata": {
    "collapsed": false
   }
  },
  {
   "cell_type": "code",
   "execution_count": 119,
   "outputs": [
    {
     "data": {
      "text/plain": "2*x + 2",
      "text/latex": "$\\displaystyle 2 x + 2$"
     },
     "execution_count": 119,
     "metadata": {},
     "output_type": "execute_result"
    }
   ],
   "source": [
    "x = smp.Symbol('x')\n",
    "\n",
    "f = x**2 + 2*x + 1\n",
    "\n",
    "smp.diff(f, x)\n"
   ],
   "metadata": {
    "collapsed": false
   }
  },
  {
   "cell_type": "markdown",
   "source": [
    "## Complex Numbers\n"
   ],
   "metadata": {
    "collapsed": false
   }
  },
  {
   "cell_type": "code",
   "execution_count": 120,
   "outputs": [],
   "source": [
    "from sympy import (\n",
    "    I as j,\n",
    "    E as e\n",
    ")"
   ],
   "metadata": {
    "collapsed": false
   }
  },
  {
   "cell_type": "code",
   "execution_count": 121,
   "outputs": [
    {
     "data": {
      "text/plain": "exp(-I)",
      "text/latex": "$\\displaystyle e^{- i}$"
     },
     "execution_count": 121,
     "metadata": {},
     "output_type": "execute_result"
    }
   ],
   "source": [
    "e**-j\n"
   ],
   "metadata": {
    "collapsed": false
   }
  },
  {
   "cell_type": "code",
   "execution_count": 122,
   "outputs": [
    {
     "data": {
      "text/plain": "x + I*y",
      "text/latex": "$\\displaystyle x + i y$"
     },
     "metadata": {},
     "output_type": "display_data"
    },
    {
     "data": {
      "text/plain": "'Real part'"
     },
     "metadata": {},
     "output_type": "display_data"
    },
    {
     "data": {
      "text/plain": "x",
      "text/latex": "$\\displaystyle x$"
     },
     "metadata": {},
     "output_type": "display_data"
    },
    {
     "data": {
      "text/plain": "'Imaginary part'"
     },
     "metadata": {},
     "output_type": "display_data"
    },
    {
     "data": {
      "text/plain": "y",
      "text/latex": "$\\displaystyle y$"
     },
     "metadata": {},
     "output_type": "display_data"
    }
   ],
   "source": [
    "x, y = smp.symbols('x y', real = True)\n",
    "\n",
    "func = x + j*y\n",
    "display(func)\n",
    "\n",
    "display(\"Real part\")\n",
    "display(smp.re(func))\n",
    "\n",
    "display(\"Imaginary part\")\n",
    "display(smp.im(func))\n"
   ],
   "metadata": {
    "collapsed": false
   }
  }
 ],
 "metadata": {
  "kernelspec": {
   "display_name": "Python 3",
   "language": "python",
   "name": "python3"
  },
  "language_info": {
   "codemirror_mode": {
    "name": "ipython",
    "version": 2
   },
   "file_extension": ".py",
   "mimetype": "text/x-python",
   "name": "python",
   "nbconvert_exporter": "python",
   "pygments_lexer": "ipython2",
   "version": "2.7.6"
  }
 },
 "nbformat": 4,
 "nbformat_minor": 0
}
