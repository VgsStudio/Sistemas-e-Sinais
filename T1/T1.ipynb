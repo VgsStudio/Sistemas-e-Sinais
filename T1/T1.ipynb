{
 "cells": [
  {
   "cell_type": "markdown",
   "source": [
    "# Atividade T1\n",
    "\n",
    "# Importando as bibliotecas"
   ],
   "metadata": {
    "collapsed": false
   }
  },
  {
   "cell_type": "code",
   "execution_count": 229,
   "outputs": [],
   "source": [
    "import sympy as smp\n",
    "import numpy as np\n",
    "import matplotlib.pyplot as plt\n",
    "\n",
    "from sympy import (\n",
    "    pi\n",
    ")"
   ],
   "metadata": {
    "collapsed": false
   }
  },
  {
   "cell_type": "markdown",
   "source": [
    "## Sinal a aproximar\n",
    "\n",
    "### Definindo variáveis"
   ],
   "metadata": {
    "collapsed": false
   }
  },
  {
   "cell_type": "code",
   "execution_count": 230,
   "outputs": [],
   "source": [
    "dg = 4\n",
    "Ap = dg\n",
    "An = -dg\n",
    "t0 = -dg/2\n",
    "t1 = dg/2\n",
    "t2 = 4.5*dg\n",
    "w = 2*pi/(t2-t0)\n"
   ],
   "metadata": {
    "collapsed": false
   }
  },
  {
   "cell_type": "markdown",
   "source": [
    "## Plotando sinal original\n"
   ],
   "metadata": {
    "collapsed": false
   }
  },
  {
   "cell_type": "code",
   "execution_count": 231,
   "outputs": [
    {
     "data": {
      "text/plain": "Text(18.0, 0.5, '$t_2$')"
     },
     "execution_count": 231,
     "metadata": {},
     "output_type": "execute_result"
    },
    {
     "data": {
      "text/plain": "<Figure size 432x288 with 1 Axes>",
      "image/png": "[encoded data removed]"
     },
     "metadata": {
      "needs_background": "light"
     },
     "output_type": "display_data"
    }
   ],
   "source": [
    "t = np.linspace(t0,t2,1000)\n",
    "y = np.zeros(len(t))\n",
    "\n",
    "for i in range(len(t)):\n",
    "    if t[i] < t1 and t[i] >= t0:\n",
    "        y[i] = Ap\n",
    "    else:\n",
    "        y[i] = An\n",
    "\n",
    "plt.plot(t,y)\n",
    "plt.grid()\n",
    "plt.ylabel('g(t)')\n",
    "plt.xlabel('tempo')\n",
    "plt.title('Sinal original')\n",
    "\n",
    "\n",
    "plt.axvline(x=t1, color='r', linestyle='--')\n",
    "plt.text(t1, 0.5, r'$t_1$', color='r')\n",
    "plt.axvline(x=t0, color='r', linestyle='--')\n",
    "plt.text(t0, 0.5, r'$t_0$', color='r')\n",
    "plt.axvline(x=t2, color='r', linestyle='--')\n",
    "plt.text(t2, 0.5, r'$t_2$', color='r')\n"
   ],
   "metadata": {
    "collapsed": false
   }
  },
  {
   "cell_type": "markdown",
   "source": [],
   "metadata": {
    "collapsed": false
   }
  },
  {
   "cell_type": "markdown",
   "source": [
    "## Definindo variáveis simbólicas"
   ],
   "metadata": {
    "collapsed": false
   }
  },
  {
   "cell_type": "code",
   "execution_count": 232,
   "outputs": [],
   "source": [
    "n, wo, t = smp.symbols('n wo t')\n"
   ],
   "metadata": {
    "collapsed": false
   }
  },
  {
   "cell_type": "markdown",
   "source": [
    "### Definindo a análise de Fourier\n",
    "$$C_n =  \\dfrac{\\int_{T0}{g(t)x_n(t)dt}}{\\int_{To}x^2_n(t) dt} $$"
   ],
   "metadata": {
    "collapsed": false
   }
  },
  {
   "cell_type": "code",
   "execution_count": 233,
   "outputs": [],
   "source": [
    "xa = smp.cos(n*wo*t)\n",
    "xb = smp.sin(n*wo*t)\n",
    "\n",
    "an_num = smp.integrate(Ap*xa, (t, t0, t1)) + smp.integrate(An*xa, (t, t1, t2))\n",
    "an_den = smp.integrate(xa**2, (t, t0, t2))\n",
    "\n",
    "an = an_num/an_den\n",
    "\n",
    "bn_num = smp.integrate(Ap*xb, (t, t0, t1)) + smp.integrate(An*xb, (t, t1, t2))\n",
    "bn_den = smp.integrate(xb**2, (t, t0, t2))\n",
    "\n",
    "bn = bn_num/bn_den"
   ],
   "metadata": {
    "collapsed": false
   }
  },
  {
   "cell_type": "code",
   "execution_count": 234,
   "outputs": [
    {
     "data": {
      "text/plain": "(Piecewise((8*sin(2.0*n*wo)/(n*wo), Ne(n*wo, 0)), (16.0, True)) + Piecewise((4*sin(2.0*n*wo)/(n*wo) - 4*sin(18.0*n*wo)/(n*wo), Ne(n*wo, 0)), (-64.0, True)))*Piecewise((1/(-(-1.0*n*wo - sin(2.0*n*wo)*cos(2.0*n*wo)/2)/(n*wo) + (9.0*n*wo + sin(18.0*n*wo)*cos(18.0*n*wo)/2)/(n*wo)), Ne(n*wo, 0)), (0.05, True))",
      "text/latex": "$\\displaystyle \\left(\\begin{cases} \\frac{8 \\sin{\\left(2.0 n wo \\right)}}{n wo} & \\text{for}\\: n wo \\neq 0 \\\\16.0 & \\text{otherwise} \\end{cases} + \\begin{cases} \\frac{4 \\sin{\\left(2.0 n wo \\right)}}{n wo} - \\frac{4 \\sin{\\left(18.0 n wo \\right)}}{n wo} & \\text{for}\\: n wo \\neq 0 \\\\-64.0 & \\text{otherwise} \\end{cases}\\right) \\left(\\begin{cases} \\frac{1}{- \\frac{- 1.0 n wo - \\frac{\\sin{\\left(2.0 n wo \\right)} \\cos{\\left(2.0 n wo \\right)}}{2}}{n wo} + \\frac{9.0 n wo + \\frac{\\sin{\\left(18.0 n wo \\right)} \\cos{\\left(18.0 n wo \\right)}}{2}}{n wo}} & \\text{for}\\: n wo \\neq 0 \\\\0.05 & \\text{otherwise} \\end{cases}\\right)$"
     },
     "execution_count": 234,
     "metadata": {},
     "output_type": "execute_result"
    }
   ],
   "source": [
    "an"
   ],
   "metadata": {
    "collapsed": false
   }
  },
  {
   "cell_type": "code",
   "execution_count": 235,
   "outputs": [
    {
     "data": {
      "text/plain": "Piecewise((1/(-(-1.0*n*wo + sin(2.0*n*wo)*cos(2.0*n*wo)/2)/(n*wo) + (9.0*n*wo - sin(18.0*n*wo)*cos(18.0*n*wo)/2)/(n*wo)), Ne(n*wo, 0)), (zoo, True))*Piecewise((-4*cos(2.0*n*wo)/(n*wo) + 4*cos(18.0*n*wo)/(n*wo), Ne(n*wo, 0)), (0, True))",
      "text/latex": "$\\displaystyle \\left(\\begin{cases} \\frac{1}{- \\frac{- 1.0 n wo + \\frac{\\sin{\\left(2.0 n wo \\right)} \\cos{\\left(2.0 n wo \\right)}}{2}}{n wo} + \\frac{9.0 n wo - \\frac{\\sin{\\left(18.0 n wo \\right)} \\cos{\\left(18.0 n wo \\right)}}{2}}{n wo}} & \\text{for}\\: n wo \\neq 0 \\\\\\tilde{\\infty} & \\text{otherwise} \\end{cases}\\right) \\left(\\begin{cases} - \\frac{4 \\cos{\\left(2.0 n wo \\right)}}{n wo} + \\frac{4 \\cos{\\left(18.0 n wo \\right)}}{n wo} & \\text{for}\\: n wo \\neq 0 \\\\0 & \\text{otherwise} \\end{cases}\\right)$"
     },
     "execution_count": 235,
     "metadata": {},
     "output_type": "execute_result"
    }
   ],
   "source": [
    "bn\n"
   ],
   "metadata": {
    "collapsed": false
   }
  },
  {
   "cell_type": "markdown",
   "source": [
    "## Substituindo valores numéricos"
   ],
   "metadata": {
    "collapsed": false
   }
  },
  {
   "cell_type": "code",
   "execution_count": 236,
   "outputs": [],
   "source": [
    "n_array = np.arange(1,21, 1)\n",
    "\n",
    "an_array = np.ones(n_array.shape)\n",
    "bn_array = np.ones(n_array.shape)\n",
    "\n",
    "for i in range(len(n_array)):\n",
    "    an_array[i] = an.subs([(n, n_array[i]), (wo, w)])\n",
    "    bn_array[i] = bn.subs([(n, n_array[i]), (wo, w)])\n"
   ],
   "metadata": {
    "collapsed": false
   }
  },
  {
   "cell_type": "markdown",
   "source": [
    "## Plotando os coeficientes"
   ],
   "metadata": {
    "collapsed": false
   }
  },
  {
   "cell_type": "code",
   "execution_count": 237,
   "outputs": [
    {
     "data": {
      "text/plain": "<StemContainer object of 3 artists>"
     },
     "execution_count": 237,
     "metadata": {},
     "output_type": "execute_result"
    },
    {
     "data": {
      "text/plain": "<Figure size 432x288 with 1 Axes>",
      "image/png": "[encoded data removed]"
     },
     "metadata": {
      "needs_background": "light"
     },
     "output_type": "display_data"
    }
   ],
   "source": [
    "plt.stem(n_array, an_array)"
   ],
   "metadata": {
    "collapsed": false
   }
  },
  {
   "cell_type": "code",
   "execution_count": 238,
   "outputs": [
    {
     "data": {
      "text/plain": "<StemContainer object of 3 artists>"
     },
     "execution_count": 238,
     "metadata": {},
     "output_type": "execute_result"
    },
    {
     "data": {
      "text/plain": "<Figure size 432x288 with 1 Axes>",
      "image/png": "[encoded data removed]"
     },
     "metadata": {
      "needs_background": "light"
     },
     "output_type": "display_data"
    }
   ],
   "source": [
    "plt.stem(n_array, bn_array)\n"
   ],
   "metadata": {
    "collapsed": false
   }
  },
  {
   "cell_type": "markdown",
   "source": [
    "## Síntese de Fourier\n",
    "\n",
    "$$g(t) = \\sum_{n=0}^NC_nX_n(t)$$"
   ],
   "metadata": {
    "collapsed": false
   }
  },
  {
   "cell_type": "code",
   "execution_count": 239,
   "outputs": [],
   "source": [
    "gs = 0\n",
    "\n",
    "for i in range(len(n_array)):\n",
    "    gs += an_array[i]*xa.subs([(n, n_array[i]), (wo, w)]) + bn_array[i]*xb.subs([(n, n_array[i]), (wo, w)])"
   ],
   "metadata": {
    "collapsed": false
   }
  },
  {
   "cell_type": "code",
   "execution_count": 240,
   "outputs": [],
   "source": [
    "gs = smp.lambdify(t, gs)\n"
   ],
   "metadata": {
    "collapsed": false
   }
  },
  {
   "cell_type": "code",
   "execution_count": 241,
   "outputs": [
    {
     "data": {
      "text/plain": "Text(0.5, 1.0, 'Sinal sintetizado')"
     },
     "execution_count": 241,
     "metadata": {},
     "output_type": "execute_result"
    },
    {
     "data": {
      "text/plain": "<Figure size 432x288 with 1 Axes>",
      "image/png": "[encoded data removed]"
     },
     "metadata": {
      "needs_background": "light"
     },
     "output_type": "display_data"
    }
   ],
   "source": [
    "t = np.linspace(t0,t2,1000)\n",
    "\n",
    "plt.plot(t, gs(t))\n",
    "plt.grid()\n",
    "plt.ylabel('g(t)')\n",
    "plt.xlabel('tempo')\n",
    "plt.title('Sinal sintetizado')\n"
   ],
   "metadata": {
    "collapsed": false
   }
  },
  {
   "cell_type": "markdown",
   "source": [
    "## Plotando ambos os sinais\n",
    "Sem ajuste"
   ],
   "metadata": {
    "collapsed": false
   }
  },
  {
   "cell_type": "code",
   "execution_count": 242,
   "outputs": [
    {
     "data": {
      "text/plain": "<matplotlib.legend.Legend at 0x1d31e0ac040>"
     },
     "execution_count": 242,
     "metadata": {},
     "output_type": "execute_result"
    },
    {
     "data": {
      "text/plain": "<Figure size 432x288 with 1 Axes>",
      "image/png": "[encoded data removed]"
     },
     "metadata": {
      "needs_background": "light"
     },
     "output_type": "display_data"
    }
   ],
   "source": [
    "\n",
    "plt.plot(t, gs(t))\n",
    "\n",
    "plt.plot(t,y)\n",
    "plt.grid()\n",
    "plt.ylabel('g(t)')\n",
    "\n",
    "plt.xlabel('tempo')\n",
    "plt.title('Sinal sintetizado')\n",
    "\n",
    "plt.legend(['Sinal sintetizado', 'Sinal original'])\n"
   ],
   "metadata": {
    "collapsed": false
   }
  },
  {
   "cell_type": "markdown",
   "source": [
    "## Plotando ambos os sinais\n",
    "Com ajuste"
   ],
   "metadata": {
    "collapsed": false
   }
  },
  {
   "cell_type": "code",
   "execution_count": 243,
   "outputs": [
    {
     "data": {
      "text/plain": "-2.40000000000000",
      "text/latex": "$\\displaystyle -2.4$"
     },
     "execution_count": 243,
     "metadata": {},
     "output_type": "execute_result"
    }
   ],
   "source": [
    "a0 = an.subs([(n, 0), (wo, w), (t, 0)])\n",
    "a0"
   ],
   "metadata": {
    "collapsed": false
   }
  },
  {
   "cell_type": "code",
   "execution_count": 245,
   "outputs": [
    {
     "data": {
      "text/plain": "<matplotlib.legend.Legend at 0x1d31e1e5880>"
     },
     "execution_count": 245,
     "metadata": {},
     "output_type": "execute_result"
    },
    {
     "data": {
      "text/plain": "<Figure size 432x288 with 1 Axes>",
      "image/png": "[encoded data removed]"
     },
     "metadata": {
      "needs_background": "light"
     },
     "output_type": "display_data"
    }
   ],
   "source": [
    "\n",
    "plt.plot(t, gs(t) + a0)\n",
    "\n",
    "plt.plot(t,y)\n",
    "plt.grid()\n",
    "plt.ylabel('$g_t(t)$')\n",
    "\n",
    "plt.xlabel('tempo')\n",
    "plt.title('Sinal sintetizado')\n",
    "\n",
    "plt.legend(['Sinal sintetizado', 'Sinal original'])\n"
   ],
   "metadata": {
    "collapsed": false
   }
  }
 ],
 "metadata": {
  "kernelspec": {
   "display_name": "Python 3",
   "language": "python",
   "name": "python3"
  },
  "language_info": {
   "codemirror_mode": {
    "name": "ipython",
    "version": 2
   },
   "file_extension": ".py",
   "mimetype": "text/x-python",
   "name": "python",
   "nbconvert_exporter": "python",
   "pygments_lexer": "ipython2",
   "version": "2.7.6"
  }
 },
 "nbformat": 4,
 "nbformat_minor": 0
}
